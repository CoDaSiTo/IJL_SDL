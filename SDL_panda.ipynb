{
 "cells": [
  {
   "cell_type": "markdown",
   "metadata": {},
   "source": [
    "# SDL data extraction from exel file and ploting possibly"
   ]
  },
  {
   "cell_type": "code",
   "execution_count": 1,
   "metadata": {
    "tags": []
   },
   "outputs": [],
   "source": [
    "import os\n",
    "import csv \n",
    "import matplotlib.pyplot as plt\n",
    "import numpy as np\n",
    "import pandas as pd\n",
    "from tkinter import *\n",
    "from tkinter import filedialog\n",
    "from matplotlib import pylab as pylab\n",
    "import matplotlib.gridspec as gridspec\n",
    "from scipy import signal\n"
   ]
  },
  {
   "cell_type": "markdown",
   "metadata": {},
   "source": [
    "## Modules"
   ]
  },
  {
   "cell_type": "code",
   "execution_count": 2,
   "metadata": {
    "jupyter": {
     "source_hidden": true
    },
    "tags": []
   },
   "outputs": [],
   "source": [
    "def dir_select(start_dir = None):\n",
    "    '''Directory selection to later read all relevant files from directory, need tkinter and filedialog\n",
    "    WARNING: do not forget '/' or '\\\\' (python vs win) before file name'''\n",
    "    root=Tk()\n",
    "    directory=filedialog.askdirectory(initialdir=start_dir)\n",
    "    root.destroy()\n",
    "    print(directory)\n",
    "    return directory\n",
    "\n",
    "def all_extension_select(directory, extension):\n",
    "    ''' Creates list with all files pertaining to relevant extension for the folder inserted as directory'''\n",
    "    all_files_names=os.listdir(directory)\n",
    "#    print(all_files_names , '\\n')\n",
    "    txt_files=list()\n",
    "    for a in range(len(all_files_names)):\n",
    "        if all_files_names[a].find(extension)>0:\n",
    "            txt_files.insert(a, all_files_names[a])\n",
    "    print(txt_files)\n",
    "    return txt_files\n",
    "\n",
    "def textfile_to_linelist(txtfilepath):\n",
    "    '''Creates a list of strings from the text file !!Give complete file path with directory'''\n",
    "    with open(txtfilepath,  encoding='utf8', errors='ignore') as f:\n",
    "        lines=f.readlines()\n",
    "        f.close()\n",
    "    return lines\n"
   ]
  },
  {
   "cell_type": "code",
   "execution_count": 47,
   "metadata": {},
   "outputs": [],
   "source": [
    "\n",
    "colors=['#000000', '#aa0000', '#00aa00', '#0000aa', '#aa5500', '#aa5555', '#00aa55' ]\n",
    "Dcolors={\"C\":\"#111111\", \n",
    "         \"H\":\"#4ac9ff\", \n",
    "         \"N\":\"#3050f8\", \n",
    "         \"O\":\"#ff0d0d\",\n",
    "         \"Na\":\"#ab5cf2\",\n",
    "         \"Al\":\"#bfa6a6\",\n",
    "         \"Si\":\"#f0c8a0\",\n",
    "         \"S\":\"#ffff30\",\n",
    "         \"Cl\":\"#1ff01f\",\n",
    "         \"Ar\":\"#80d1e3\",\n",
    "         \"K\":\"#8f40d4\",\n",
    "         \"Ca\":\"#3dff00\",\n",
    "         \"Fe\":\"#e06633\",\n",
    "         \"Cu\":\"#c88033\",\n",
    "         \"Mg\":\"#2a802a\"}\n"
   ]
  },
  {
   "cell_type": "markdown",
   "metadata": {},
   "source": [
    "## Select folder"
   ]
  },
  {
   "cell_type": "code",
   "execution_count": 49,
   "metadata": {
    "tags": []
   },
   "outputs": [
    {
     "name": "stdout",
     "output_type": "stream",
     "text": [
      "/home/dasilvatousch/PydataWork/SDL/2021-02\n",
      "['Corentin_2021_02_08ssN_Pds%.xlsx', 'Corentin_2021_02_02ssN_Pds%.xlsx', 'Corentin_2021_02_08ssN_at%.xlsx', 'Corentin_2021_02_08bissN_Pds%.xlsx', 'Corentin_2021_02_02ssN_at%.xlsx', 'Corentin_2021_02_08_at%.xlsx', 'Corentin_2021_02_08bissN_at%.xlsx']\n"
     ]
    }
   ],
   "source": [
    "directory=dir_select(start_dir='/home/dasilvatousch/PydataWork')\n",
    "file_extension='.xlsx'\n",
    "files=all_extension_select(directory, file_extension) \n"
   ]
  },
  {
   "cell_type": "markdown",
   "metadata": {},
   "source": [
    "## Split brut et pseudo"
   ]
  },
  {
   "cell_type": "code",
   "execution_count": 44,
   "metadata": {},
   "outputs": [
    {
     "name": "stdout",
     "output_type": "stream",
     "text": [
      "['Corentin2_brut.xlsx']\n",
      "['Corentin 2_pseudo_quanti.xlsx']\n",
      "[]\n"
     ]
    }
   ],
   "source": [
    "brut_files=list()\n",
    "pseudo_files=list()\n",
    "other=list()\n",
    "newdirectory=list()\n",
    "\n",
    "for each in files:\n",
    "    if each.find('brut')>0:\n",
    "        brut_files.append(each)\n",
    "        newpath = directory + '/' + each[:-5] + '_Graphs' \n",
    "        newdirectory.append(newpath)\n",
    "        if not os.path.exists(newpath):\n",
    "            os.makedirs(newpath)\n",
    "    elif each.find('pseudo')>0:\n",
    "        pseudo_files.append(each)\n",
    "    else:\n",
    "        other.append(each)\n",
    "print(brut_files)\n",
    "print(pseudo_files)\n",
    "print(other)"
   ]
  },
  {
   "cell_type": "markdown",
   "metadata": {
    "jupyter": {
     "outputs_hidden": true
    },
    "tags": []
   },
   "source": [
    "xlpath=directory + '/' + brut_files[0]\n",
    "#print(xlpath)\n",
    "df=pd.read_excel(xlpath, sheet_name='Data', index_col='X')\n",
    "\n",
    "df.head()"
   ]
  },
  {
   "cell_type": "markdown",
   "metadata": {
    "tags": []
   },
   "source": [
    "col_name=list(df.columns)\n",
    "print(col_name)\n",
    "min_max_scaler=MinMaxScaler()\n",
    "for col in col_name:\n",
    "    name='n_' + col\n",
    "    df[name]=(df[col]-df[col].min())/(df[col].max()-df[col].min())\n"
   ]
  },
  {
   "cell_type": "markdown",
   "metadata": {
    "jupyter": {
     "outputs_hidden": true
    },
    "tags": []
   },
   "source": [
    "i=0\n",
    "col_name=list(df.columns)\n",
    "for col in col_name:\n",
    "    name='n_' + col\n",
    "    fig = plt.plot(figsize=(10, 20))\n",
    "    plt.plot(df[name], label=col, color=colors[i])\n",
    "    i+=1\n",
    "    plt.legend(fontsize=14)\n",
    "    plt.xlabel('Time (s)', fontsize=14)\n",
    "    plt.ylabel('Signal (V)', fontsize=14)\n",
    "    plt.minorticks_on()\n",
    "    plt.tick_params(direction='in', which='both', right=True)\n",
    "    plt.title('GDOES : Raw signal')\n",
    "    plt.show()"
   ]
  },
  {
   "cell_type": "code",
   "execution_count": 50,
   "metadata": {},
   "outputs": [
    {
     "ename": "KeyError",
     "evalue": "'P'",
     "output_type": "error",
     "traceback": [
      "\u001b[0;31m---------------------------------------------------------------------------\u001b[0m",
      "\u001b[0;31mKeyError\u001b[0m                                  Traceback (most recent call last)",
      "\u001b[0;32m<ipython-input-50-198f5e1b0205>\u001b[0m in \u001b[0;36m<module>\u001b[0;34m\u001b[0m\n\u001b[1;32m     12\u001b[0m     \u001b[0mfig\u001b[0m \u001b[0;34m=\u001b[0m \u001b[0mplt\u001b[0m\u001b[0;34m.\u001b[0m\u001b[0mfigure\u001b[0m\u001b[0;34m(\u001b[0m\u001b[0mfigsize\u001b[0m\u001b[0;34m=\u001b[0m\u001b[0;34m(\u001b[0m\u001b[0;36m20\u001b[0m\u001b[0;34m,\u001b[0m\u001b[0;36m10\u001b[0m\u001b[0;34m)\u001b[0m\u001b[0;34m)\u001b[0m\u001b[0;34m\u001b[0m\u001b[0;34m\u001b[0m\u001b[0m\n\u001b[1;32m     13\u001b[0m     \u001b[0;32mfor\u001b[0m \u001b[0mcol\u001b[0m \u001b[0;32min\u001b[0m \u001b[0mcol_name\u001b[0m\u001b[0;34m:\u001b[0m\u001b[0;34m\u001b[0m\u001b[0;34m\u001b[0m\u001b[0m\n\u001b[0;32m---> 14\u001b[0;31m         \u001b[0mplt\u001b[0m\u001b[0;34m.\u001b[0m\u001b[0mplot\u001b[0m\u001b[0;34m(\u001b[0m\u001b[0mdf\u001b[0m\u001b[0;34m[\u001b[0m\u001b[0mcol\u001b[0m\u001b[0;34m]\u001b[0m\u001b[0;34m,\u001b[0m \u001b[0mlabel\u001b[0m\u001b[0;34m=\u001b[0m\u001b[0mcol\u001b[0m\u001b[0;34m,\u001b[0m \u001b[0mcolor\u001b[0m\u001b[0;34m=\u001b[0m\u001b[0mDcolors\u001b[0m\u001b[0;34m[\u001b[0m\u001b[0mcol\u001b[0m\u001b[0;34m]\u001b[0m\u001b[0;34m,\u001b[0m \u001b[0mlinestyle\u001b[0m\u001b[0;34m=\u001b[0m\u001b[0;34m'none'\u001b[0m\u001b[0;34m,\u001b[0m \u001b[0mmarker\u001b[0m\u001b[0;34m=\u001b[0m\u001b[0;34m'+'\u001b[0m\u001b[0;34m)\u001b[0m\u001b[0;34m\u001b[0m\u001b[0;34m\u001b[0m\u001b[0m\n\u001b[0m\u001b[1;32m     15\u001b[0m     \u001b[0mplt\u001b[0m\u001b[0;34m.\u001b[0m\u001b[0mlegend\u001b[0m\u001b[0;34m(\u001b[0m\u001b[0mfontsize\u001b[0m\u001b[0;34m=\u001b[0m\u001b[0;36m14\u001b[0m\u001b[0;34m)\u001b[0m\u001b[0;34m\u001b[0m\u001b[0;34m\u001b[0m\u001b[0m\n\u001b[1;32m     16\u001b[0m     \u001b[0mplt\u001b[0m\u001b[0;34m.\u001b[0m\u001b[0mxlabel\u001b[0m\u001b[0;34m(\u001b[0m\u001b[0;34m'Sputtering time (s)'\u001b[0m\u001b[0;34m,\u001b[0m \u001b[0mfontsize\u001b[0m\u001b[0;34m=\u001b[0m\u001b[0;36m14\u001b[0m\u001b[0;34m)\u001b[0m\u001b[0;34m\u001b[0m\u001b[0;34m\u001b[0m\u001b[0m\n",
      "\u001b[0;31mKeyError\u001b[0m: 'P'"
     ]
    },
    {
     "data": {
      "image/png": "[encoded data removed]",
      "text/plain": [
       "<Figure size 1440x720 with 1 Axes>"
      ]
     },
     "metadata": {
      "needs_background": "light"
     },
     "output_type": "display_data"
    }
   ],
   "source": [
    "i=0\n",
    "col_name=list(df.columns)\n",
    "for file in brut_files:\n",
    "    xlpath = directory + '/' + file\n",
    "    \n",
    "    df = pd.read_excel(xlpath, sheet_name='Data', index_col='X')\n",
    "    df.head(1)\n",
    "    col_name = list(df.columns)\n",
    "    fig = plt.figure(figsize=(20,10))\n",
    "    for col in col_name:\n",
    "        plt.plot(df[col], label=col, color=Dcolors[col], linestyle='none', marker='+')\n",
    "    plt.legend(fontsize=14)\n",
    "    plt.xlabel('Sputtering time (s)', fontsize=14)\n",
    "    plt.ylabel('Signal (V)', fontsize=14)\n",
    "    plt.minorticks_on()\n",
    "    plt.tick_params(direction='in', which='both', right = True)\n",
    "    plt.title(file[:-4])\n",
    "    figname=newdirectory[i] + '/_All.png'\n",
    "    plt.savefig(figname)\n",
    "    plt.close()\n",
    "    \n",
    "    for col in col_name:\n",
    "        figC=plt.figure(figsize=(20,10))\n",
    "        plt.plot(df[col], label=col, color=Dcolors[col], linestyle='none', marker='+')\n",
    "        plt.legend(fontsize=14)\n",
    "        plt.xlabel('Sputtering time (s)', fontsize=14)\n",
    "        plt.ylabel('Signal (V)', fontsize=14)\n",
    "        plt.minorticks_on()\n",
    "        plt.tick_params(direction='in', which='both', right = True)\n",
    "        plt.title(file[:-4])\n",
    "        figname=newdirectory[i] + '/' + col + '.png'\n",
    "        plt.savefig(figname)\n",
    "        plt.close()\n",
    "    i+=1"
   ]
  },
  {
   "cell_type": "code",
   "execution_count": null,
   "metadata": {},
   "outputs": [],
   "source": []
  },
  {
   "cell_type": "code",
   "execution_count": null,
   "metadata": {},
   "outputs": [],
   "source": []
  },
  {
   "cell_type": "code",
   "execution_count": null,
   "metadata": {},
   "outputs": [],
   "source": []
  }
 ],
 "metadata": {
  "kernelspec": {
   "display_name": "Python 3",
   "language": "python",
   "name": "python3"
  },
  "language_info": {
   "codemirror_mode": {
    "name": "ipython",
    "version": 3
   },
   "file_extension": ".py",
   "mimetype": "text/x-python",
   "name": "python",
   "nbconvert_exporter": "python",
   "pygments_lexer": "ipython3",
   "version": "3.8.10"
  }
 },
 "nbformat": 4,
 "nbformat_minor": 4
}
