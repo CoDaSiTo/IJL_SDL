{
 "cells": [
  {
   "cell_type": "markdown",
   "metadata": {},
   "source": [
    "# SDL data extraction from exel file and ploting possibly"
   ]
  },
  {
   "cell_type": "code",
   "execution_count": 1,
   "metadata": {
    "jupyter": {
     "source_hidden": true
    },
    "tags": []
   },
   "outputs": [],
   "source": [
    "import os\n",
    "import csv \n",
    "import matplotlib.pyplot as plt\n",
    "import numpy as np\n",
    "import pandas as pd\n",
    "from tkinter import *\n",
    "from tkinter import filedialog\n",
    "from matplotlib import pylab as pylab\n",
    "import matplotlib.gridspec as gridspec\n",
    "from scipy import signal\n"
   ]
  },
  {
   "cell_type": "markdown",
   "metadata": {},
   "source": [
    "## Modules"
   ]
  },
  {
   "cell_type": "code",
   "execution_count": 2,
   "metadata": {
    "jupyter": {
     "source_hidden": true
    },
    "tags": []
   },
   "outputs": [],
   "source": [
    "def dir_select(start_dir = None):\n",
    "    '''Directory selection to later read all relevant files from directory, need tkinter and filedialog\n",
    "    WARNING: do not forget '/' or '\\\\' (python vs win) before file name'''\n",
    "    root=Tk()\n",
    "    directory=filedialog.askdirectory(initialdir=start_dir)\n",
    "    root.destroy()\n",
    "    print(directory)\n",
    "    return directory\n",
    "\n",
    "def all_extension_select(directory, extension):\n",
    "    ''' Creates list with all files pertaining to relevant extension for the folder inserted as directory'''\n",
    "    all_files_names=os.listdir(directory)\n",
    "#    print(all_files_names , '\\n')\n",
    "    txt_files=list()\n",
    "    for a in range(len(all_files_names)):\n",
    "        if all_files_names[a].find(extension)>0:\n",
    "            txt_files.insert(a, all_files_names[a])\n",
    "    print(txt_files)\n",
    "    return txt_files\n",
    "\n",
    "def textfile_to_linelist(txtfilepath):\n",
    "    '''Creates a list of strings from the text file !!Give complete file path with directory'''\n",
    "    with open(txtfilepath,  encoding='utf8', errors='ignore') as f:\n",
    "        lines=f.readlines()\n",
    "        f.close()\n",
    "    return lines\n"
   ]
  },
  {
   "cell_type": "code",
   "execution_count": 3,
   "metadata": {},
   "outputs": [],
   "source": [
    "\n",
    "colors=['#000000', '#aa0000', '#00aa00', '#0000aa', '#aa5500', '#aa5555', '#00aa55' ]\n",
    "Dcolors={\"C\":\"#111111\", \n",
    "         \"H\":\"#4ac9ff\", \n",
    "         \"N\":\"#3050f8\", \n",
    "         \"O\":\"#ff0d0d\",\n",
    "         \"Na\":\"#ab5cf2\",\n",
    "         \"Al\":\"#bfa6a6\",\n",
    "         \"Si\":\"#f0c8a0\",\n",
    "         \"S\":\"#ffff30\",\n",
    "         \"Cl\":\"#1ff01f\",\n",
    "         \"Ar\":\"#80d1e3\",\n",
    "         \"K\":\"#8f40d4\",\n",
    "         \"Ca\":\"#3dff00\",\n",
    "         \"Fe\":\"#e06633\",\n",
    "         \"Cu\":\"#c88033\"}\n"
   ]
  },
  {
   "cell_type": "markdown",
   "metadata": {},
   "source": [
    "## Select folder"
   ]
  },
  {
   "cell_type": "code",
   "execution_count": 4,
   "metadata": {
    "tags": []
   },
   "outputs": [
    {
     "name": "stdout",
     "output_type": "stream",
     "text": [
      "/home/dasilvatousch/PydataWork/SDL\n",
      "['CMG_3gl_brut.xlsx', 'CMG_3gl_pseudo at%.xlsx']\n"
     ]
    }
   ],
   "source": [
    "directory=dir_select(start_dir='/home/dasilvatousch/PydataWork')\n",
    "file_extension='.xlsx'\n",
    "files=all_extension_select(directory, file_extension)"
   ]
  },
  {
   "cell_type": "markdown",
   "metadata": {},
   "source": [
    "## Split brut et pseudo"
   ]
  },
  {
   "cell_type": "code",
   "execution_count": 5,
   "metadata": {},
   "outputs": [
    {
     "name": "stdout",
     "output_type": "stream",
     "text": [
      "['CMG_3gl_brut.xlsx']\n",
      "['CMG_3gl_pseudo at%.xlsx']\n"
     ]
    }
   ],
   "source": [
    "brut_files=list()\n",
    "pseudo_files=list()\n",
    "for each in files:\n",
    "    if each.find('brut')>0:\n",
    "        brut_files.append(each)\n",
    "    elif each.find('pseudo')>0:\n",
    "        pseudo_files.append(each)\n",
    "\n",
    "print(brut_files)\n",
    "print(pseudo_files)"
   ]
  },
  {
   "cell_type": "code",
   "execution_count": 6,
   "metadata": {},
   "outputs": [
    {
     "data": {
      "text/html": [
       "<div>\n",
       "<style scoped>\n",
       "    .dataframe tbody tr th:only-of-type {\n",
       "        vertical-align: middle;\n",
       "    }\n",
       "\n",
       "    .dataframe tbody tr th {\n",
       "        vertical-align: top;\n",
       "    }\n",
       "\n",
       "    .dataframe thead th {\n",
       "        text-align: right;\n",
       "    }\n",
       "</style>\n",
       "<table border=\"1\" class=\"dataframe\">\n",
       "  <thead>\n",
       "    <tr style=\"text-align: right;\">\n",
       "      <th></th>\n",
       "      <th>C</th>\n",
       "      <th>N</th>\n",
       "      <th>Si</th>\n",
       "      <th>Al</th>\n",
       "      <th>H</th>\n",
       "      <th>O</th>\n",
       "      <th>K</th>\n",
       "    </tr>\n",
       "    <tr>\n",
       "      <th>X</th>\n",
       "      <th></th>\n",
       "      <th></th>\n",
       "      <th></th>\n",
       "      <th></th>\n",
       "      <th></th>\n",
       "      <th></th>\n",
       "      <th></th>\n",
       "    </tr>\n",
       "  </thead>\n",
       "  <tbody>\n",
       "    <tr>\n",
       "      <th>0.100000</th>\n",
       "      <td>0.116464</td>\n",
       "      <td>0.068238</td>\n",
       "      <td>0.071309</td>\n",
       "      <td>0.049229</td>\n",
       "      <td>0.734751</td>\n",
       "      <td>0.757431</td>\n",
       "      <td>0.008152</td>\n",
       "    </tr>\n",
       "    <tr>\n",
       "      <th>0.260006</th>\n",
       "      <td>0.178878</td>\n",
       "      <td>0.157683</td>\n",
       "      <td>0.156662</td>\n",
       "      <td>0.069562</td>\n",
       "      <td>2.375716</td>\n",
       "      <td>1.827990</td>\n",
       "      <td>0.005550</td>\n",
       "    </tr>\n",
       "    <tr>\n",
       "      <th>0.420012</th>\n",
       "      <td>0.167985</td>\n",
       "      <td>0.184458</td>\n",
       "      <td>0.153428</td>\n",
       "      <td>0.111452</td>\n",
       "      <td>2.497796</td>\n",
       "      <td>1.877646</td>\n",
       "      <td>0.007553</td>\n",
       "    </tr>\n",
       "    <tr>\n",
       "      <th>0.580018</th>\n",
       "      <td>0.147674</td>\n",
       "      <td>0.196733</td>\n",
       "      <td>0.166378</td>\n",
       "      <td>0.160057</td>\n",
       "      <td>2.708409</td>\n",
       "      <td>1.894727</td>\n",
       "      <td>0.005620</td>\n",
       "    </tr>\n",
       "    <tr>\n",
       "      <th>0.740024</th>\n",
       "      <td>0.145222</td>\n",
       "      <td>0.223811</td>\n",
       "      <td>0.162941</td>\n",
       "      <td>0.202368</td>\n",
       "      <td>3.013270</td>\n",
       "      <td>1.994382</td>\n",
       "      <td>0.008655</td>\n",
       "    </tr>\n",
       "  </tbody>\n",
       "</table>\n",
       "</div>"
      ],
      "text/plain": [
       "                 C         N        Si        Al         H         O         K\n",
       "X                                                                             \n",
       "0.100000  0.116464  0.068238  0.071309  0.049229  0.734751  0.757431  0.008152\n",
       "0.260006  0.178878  0.157683  0.156662  0.069562  2.375716  1.827990  0.005550\n",
       "0.420012  0.167985  0.184458  0.153428  0.111452  2.497796  1.877646  0.007553\n",
       "0.580018  0.147674  0.196733  0.166378  0.160057  2.708409  1.894727  0.005620\n",
       "0.740024  0.145222  0.223811  0.162941  0.202368  3.013270  1.994382  0.008655"
      ]
     },
     "execution_count": 6,
     "metadata": {},
     "output_type": "execute_result"
    }
   ],
   "source": [
    "xlpath=directory + '/' + brut_files[0]\n",
    "#print(xlpath)\n",
    "df=pd.read_excel(xlpath, sheet_name='Data', index_col='X')\n",
    "df.head()"
   ]
  },
  {
   "cell_type": "code",
   "execution_count": 14,
   "metadata": {},
   "outputs": [
    {
     "name": "stdout",
     "output_type": "stream",
     "text": [
      "['C', 'N', 'Si', 'Al', 'H', 'O', 'K']\n"
     ]
    }
   ],
   "source": [
    "col_name=list(df.columns)\n",
    "print(col_name)"
   ]
  },
  {
   "cell_type": "code",
   "execution_count": null,
   "metadata": {},
   "outputs": [],
   "source": []
  },
  {
   "cell_type": "code",
   "execution_count": 28,
   "metadata": {},
   "outputs": [
    {
     "data": {
      "image/png": "[encoded data removed]",
      "text/plain": [
       "<Figure size 720x360 with 1 Axes>"
      ]
     },
     "metadata": {
      "needs_background": "light"
     },
     "output_type": "display_data"
    }
   ],
   "source": [
    "i=0\n",
    "fig=plt.figure(figsize=(10,5))\n",
    "for col in col_name:\n",
    "    plt.plot(df[col], label=col, color=colors[i])\n",
    "    i+=1\n",
    "plt.legend(fontsize=14)\n",
    "plt.xlabel('Time (s)', fontsize=14)\n",
    "plt.ylabel('Signal (V)', fontsize=14)\n",
    "plt.minorticks_on()\n",
    "plt.tick_params(direction='in', which='both', right=True)\n",
    "plt.title('GDOES : Raw signal')\n",
    "plt.show()"
   ]
  },
  {
   "cell_type": "code",
   "execution_count": null,
   "metadata": {},
   "outputs": [],
   "source": []
  },
  {
   "cell_type": "code",
   "execution_count": null,
   "metadata": {},
   "outputs": [],
   "source": []
  },
  {
   "cell_type": "code",
   "execution_count": null,
   "metadata": {},
   "outputs": [],
   "source": []
  },
  {
   "cell_type": "code",
   "execution_count": null,
   "metadata": {},
   "outputs": [],
   "source": []
  }
 ],
 "metadata": {
  "kernelspec": {
   "display_name": "Python 3",
   "language": "python",
   "name": "python3"
  },
  "language_info": {
   "codemirror_mode": {
    "name": "ipython",
    "version": 3
   },
   "file_extension": ".py",
   "mimetype": "text/x-python",
   "name": "python",
   "nbconvert_exporter": "python",
   "pygments_lexer": "ipython3",
   "version": "3.8.10"
  }
 },
 "nbformat": 4,
 "nbformat_minor": 4
}
